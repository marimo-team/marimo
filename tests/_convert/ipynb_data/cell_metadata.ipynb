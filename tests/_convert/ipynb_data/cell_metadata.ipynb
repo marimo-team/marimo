{
 "cells": [
  {
   "cell_type": "code",
   "execution_count": null,
   "id": "0",
   "metadata": {
    "tags": [
     "tag1",
     "tag2"
    ]
   },
   "outputs": [],
   "source": [
    "print('Hello')"
   ]
  },
  {
   "cell_type": "code",
   "execution_count": null,
   "id": "1",
   "metadata": {},
   "outputs": [],
   "source": [
    "print('World')"
   ]
  },
  {
   "cell_type": "code",
   "execution_count": null,
   "id": "2",
   "metadata": {
    "tags": [
     "important",
     "data-processing"
    ]
   },
   "outputs": [],
   "source": [
    "print('Cell 1')"
   ]
  },
  {
   "cell_type": "code",
   "execution_count": null,
   "id": "3",
   "metadata": {
    "tags": []
   },
   "outputs": [],
   "source": [
    "print('Cell 2')"
   ]
  },
  {
   "cell_type": "code",
   "execution_count": null,
   "id": "4",
   "metadata": {
    "collapsed": true,
    "tags": [
     "visualization"
    ]
   },
   "outputs": [],
   "source": [
    "print('Cell 3')"
   ]
  },
  {
   "cell_type": "code",
   "execution_count": null,
   "id": "5",
   "metadata": {
    "collapsed": true,
    "custom": {
     "key": "value"
    },
    "scrolled": false,
    "tags": [
     "tag1",
     "tag2"
    ]
   },
   "outputs": [],
   "source": [
    "print('Complex metadata')"
   ]
  }
 ],
 "metadata": {},
 "nbformat": 4,
 "nbformat_minor": 5
}