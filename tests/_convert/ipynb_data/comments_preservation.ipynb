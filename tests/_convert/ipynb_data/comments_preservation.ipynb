{
 "cells": [
  {
   "cell_type": "code",
   "execution_count": null,
   "metadata": {},
   "source": [
    "# Cell 1: Basic inline and line comments\n",
    "x = 1  # This is an inline comment\n",
    "print(x)  # Another inline comment"
   ]
  },
  {
   "cell_type": "code",
   "execution_count": null,
   "metadata": {},
   "source": [
    "# Cell 2: Comments with duplicate definitions\n",
    "# This variable will be redefined later\n",
    "y = 10  # First definition\n",
    "print(y)  # Should preserve this comment"
   ]
  },
  {
   "cell_type": "code",
   "execution_count": null,
   "metadata": {},
   "source": [
    "# Cell 3: Redefinition with more comments\n",
    "# This is the second definition of y\n",
    "y = 20  # Second definition with inline comment\n",
    "result = y * 2  # Calculate result\n",
    "print(result)  # Print the result"
   ]
  },
  {
   "cell_type": "code",
   "execution_count": null,
   "metadata": {},
   "source": [
    "# Cell 4: Magic commands with comments\n",
    "%time x = 5  # Time this operation\n",
    "# Comment before magic\n",
    "%ls  # List files"
   ]
  },
  {
   "cell_type": "code",
   "execution_count": null,
   "metadata": {},
   "source": [
    "# Cell 5: Multi-line magic with comments\n",
    "# This is a SQL query\n",
    "%%sql\n",
    "-- SQL comment inside magic\n",
    "SELECT * FROM table  -- Another SQL comment\n",
    "WHERE id > 0  # Python-style comment in SQL"
   ]
  },
  {
   "cell_type": "code",
   "execution_count": null,
   "metadata": {},
   "source": [
    "# Cell 6: Comments with import statements\n",
    "import numpy as np  # Import numpy\n",
    "import pandas as pd  # Import pandas\n",
    "# These imports might be duplicated elsewhere"
   ]
  },
  {
   "cell_type": "code",
   "execution_count": null,
   "metadata": {},
   "source": [
    "# Cell 7: Duplicate import with different comment\n",
    "import numpy as np  # Import numpy again with different comment\n",
    "# This should be deduplicated but preserve one of the comments\n",
    "arr = np.array([1, 2, 3])  # Create array"
   ]
  },
  {
   "cell_type": "code",
   "execution_count": null,
   "metadata": {},
   "source": [
    "# Cell 8: Complex expressions with comments\n",
    "# Calculate something complex\n",
    "z = (x * 2  # Multiply x by 2\n",
    "     + y)   # Add y to the result\n",
    "# Final comment in cell"
   ]
  },
  {
   "cell_type": "code",
   "execution_count": null,
   "metadata": {},
   "source": [
    "# Cell 9: Augmented assignment with comments\n",
    "counter = 0  # Initialize counter\n",
    "counter += 1  # Increment counter (this will be transformed)\n",
    "# This should preserve comments during aug assign transformation"
   ]
  },
  {
   "cell_type": "code",
   "execution_count": null,
   "metadata": {},
   "source": [
    "# Cell 10: Function definitions with comments\n",
    "def my_function():  # Define a function\n",
    "    \"\"\"This is a docstring, not a comment.\"\"\"\n",
    "    # This is a comment inside the function\n",
    "    return 42  # Return a value\n",
    "# Comment after function"
   ]
  }
 ],
 "metadata": {
  "kernelspec": {
   "display_name": "Python 3",
   "language": "python",
   "name": "python3"
  },
  "language_info": {
   "codemirror_mode": {
    "name": "ipython",
    "version": 3
   },
   "file_extension": ".py",
   "mimetype": "text/x-python",
   "name": "python",
   "nbconvert_exporter": "python",
   "pygments_lexer": "ipython3",
   "version": "3.8.0"
  }
 },
 "nbformat": 4,
 "nbformat_minor": 4
}