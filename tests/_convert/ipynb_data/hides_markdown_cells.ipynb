{
 "cells": [
  {
   "cell_type": "markdown",
   "id": "0",
   "metadata": {},
   "source": [
    "A markdown cell."
   ]
  },
  {
   "cell_type": "markdown",
   "id": "1",
   "metadata": {
    "tags": [
     "blah"
    ]
   },
   "source": [
    "A markdown cell with tags: ['blah']."
   ]
  },
  {
   "cell_type": "markdown",
   "id": "2",
   "metadata": {
    "tags": [
     "blah",
     "hide-cell"
    ]
   },
   "source": [
    "A markdown cell with tags: ['blah', 'hide-cell']."
   ]
  }
 ],
 "metadata": {},
 "nbformat": 4,
 "nbformat_minor": 5
}